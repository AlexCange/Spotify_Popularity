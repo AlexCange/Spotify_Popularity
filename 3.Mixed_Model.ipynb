{
  "cells": [
    {
      "cell_type": "code",
      "execution_count": 2,
      "metadata": {
        "id": "JW_0UGMo6uMv"
      },
      "outputs": [],
      "source": [
        "import pandas as pd\n",
        "import numpy as np\n",
        "import os\n",
        "from PIL import Image\n",
        "import tensorflow as tf\n",
        "import tensorflow_datasets as tfds\n",
        "from tensorflow.keras.preprocessing.image import img_to_array\n",
        "import cv2"
      ]
    },
    {
      "cell_type": "code",
      "execution_count": 3,
      "metadata": {
        "id": "QvXi2FGLEgh4"
      },
      "outputs": [],
      "source": [
        "import dataclasses\n",
        "import zipfile as zf\n",
        "\n",
        "dataset = !wget https://storage.googleapis.com/new_music_bucket/spectrograms.zip\n",
        "\n",
        "dataset = zf.ZipFile(f'spectrograms.zip', 'r')\n",
        "dataset.extractall()\n",
        "dataset.close()"
      ]
    },
    {
      "cell_type": "code",
      "execution_count": 4,
      "metadata": {
        "id": "hM02DiKX7szs"
      },
      "outputs": [],
      "source": [
        "merged_df = pd.read_csv('./DF/merged_df.csv')"
      ]
    },
    {
      "cell_type": "code",
      "execution_count": 5,
      "metadata": {
        "id": "hdulBNT48VRK"
      },
      "outputs": [],
      "source": [
        "shuffled_df = merged_df.sample(frac=1)\n",
        "train_df, val_df, test_df = shuffled_df[:7000], shuffled_df[7000:8550], shuffled_df[8550:]"
      ]
    },
    {
      "cell_type": "code",
      "execution_count": 6,
      "metadata": {
        "id": "NDVx7SkY8XNq"
      },
      "outputs": [],
      "source": [
        "def get_X_y(df):\n",
        "\n",
        "  X_pic, X_stats = [], []\n",
        "  y = []\n",
        "\n",
        "  for name in df['NPZ_Path']:\n",
        "    loaded_npz = np.load(name, allow_pickle=True)\n",
        "\n",
        "    pic = loaded_npz['pic']\n",
        "    X_pic.append(pic)\n",
        "\n",
        "    stats = loaded_npz['stats']\n",
        "    X_stats.append(stats)\n",
        "    \n",
        "    \n",
        "    y.append(loaded_npz['track_popularity'])\n",
        "\n",
        "  X_pic, X_stats = np.array(X_pic), np.array(X_stats)\n",
        "  y = np.array(y)\n",
        "\n",
        "  return (X_pic, X_stats), y\n",
        "\n"
      ]
    },
    {
      "cell_type": "code",
      "execution_count": 7,
      "metadata": {
        "id": "3mEtYIwvrF1p"
      },
      "outputs": [],
      "source": [
        "# Get the training data\n",
        "(X_train_pic, X_train_stats), y_train = get_X_y(train_df)"
      ]
    },
    {
      "cell_type": "code",
      "execution_count": 8,
      "metadata": {
        "colab": {
          "base_uri": "https://localhost:8080/"
        },
        "id": "-eaLk0UkqJeA",
        "outputId": "25887e9e-bd08-4715-c2e8-25780842891e"
      },
      "outputs": [
        {
          "data": {
            "text/plain": [
              "(7000, 240, 320, 3)"
            ]
          },
          "execution_count": 8,
          "metadata": {},
          "output_type": "execute_result"
        }
      ],
      "source": [
        "X_train_pic.shape"
      ]
    },
    {
      "cell_type": "code",
      "execution_count": null,
      "metadata": {
        "colab": {
          "base_uri": "https://localhost:8080/"
        },
        "id": "YqaJw8-58b5J",
        "outputId": "ddbea280-cced-4622-f4c3-257bf86edeb7"
      },
      "outputs": [
        {
          "data": {
            "text/plain": [
              "(((1550, 240, 320, 3), (1550, 11)), (1550,))"
            ]
          },
          "execution_count": 10,
          "metadata": {},
          "output_type": "execute_result"
        }
      ],
      "source": [
        "# Get the validation data\n",
        "\n",
        "(X_val_pic, X_val_stats), y_val = get_X_y(val_df)\n",
        "\n",
        "(X_val_pic.shape, X_val_stats.shape), y_val.shape"
      ]
    },
    {
      "cell_type": "code",
      "execution_count": null,
      "metadata": {
        "colab": {
          "base_uri": "https://localhost:8080/"
        },
        "id": "mjUeD6f58hDf",
        "outputId": "b60e30a8-c0c5-4c72-bf44-bf31bfcede8a"
      },
      "outputs": [
        {
          "data": {
            "text/plain": [
              "(((1605, 240, 320, 3), (1605, 11)), (1605,))"
            ]
          },
          "execution_count": 11,
          "metadata": {},
          "output_type": "execute_result"
        }
      ],
      "source": [
        "# %% Get the test data\n",
        "(X_test_pic, X_test_stats), y_test = get_X_y(test_df)\n",
        "\n",
        "(X_test_pic.shape, X_test_stats.shape), y_test.shape"
      ]
    },
    {
      "cell_type": "code",
      "execution_count": null,
      "metadata": {
        "id": "ugr--7gshRNS"
      },
      "outputs": [],
      "source": [
        "from sklearn.preprocessing import MinMaxScaler\n",
        "scaler = MinMaxScaler()\n",
        "X_train_stats_scaled = scaler.fit_transform(X_train_stats)\n",
        "X_test_stats_scaled = scaler.fit_transform(X_test_stats)\n",
        "X_val_stats_scaled = scaler.fit_transform(X_val_stats)"
      ]
    },
    {
      "cell_type": "code",
      "execution_count": null,
      "metadata": {
        "colab": {
          "base_uri": "https://localhost:8080/",
          "height": 398
        },
        "id": "vz5buAYD8jZL",
        "outputId": "38bb287e-d967-4a06-ee45-5b4ffd4b0553"
      },
      "outputs": [],
      "source": [
        "# Define the Model\n",
        "\n",
        "from tensorflow.keras import layers\n",
        "from tensorflow.keras.models import Model\n",
        "from tensorflow.keras.applications import MobileNetV2\n",
        "from tensorflow.keras.applications.mobilenet_v2 import preprocess_input\n",
        "\n",
        "# Define the Picture (CNN) Stream\n",
        "\n",
        "input_pic = layers.Input(shape=(240, 320, 3))\n",
        "\n",
        "x         = MobileNetV2(input_shape=((240, 320, 3)), include_top=False)(input_pic)\n",
        "x         = layers.Conv2D(128, (3, 3), activation='relu', padding='same', input_shape=(240, 320, 3))(x)\n",
        "x         = layers.Conv2D(64, (3, 3), activation='relu', padding='same', input_shape=(240, 320, 3))(x)\n",
        "x         = layers.GlobalAveragePooling2D()(x)\n",
        "x         = layers.Dense(10, activation = 'sigmoid')(x)\n",
        "x         = layers.Dense(10, activation = 'sigmoid')(x)\n",
        "x         = Model(inputs=input_pic, outputs=x)\n",
        "\n",
        "# Define the Stats (Feed-Forward) Stream\n",
        "\n",
        "input_stats = layers.Input(shape=(11,))\n",
        "y = layers.Dense(64, kernel_regularizer='L1L2')(input_stats)\n",
        "y = layers.Flatten()(y) \n",
        "y = layers.Dense(32, activation=\"relu\", kernel_regularizer='L1L2')(y)\n",
        "y = layers.Dense(10, activation=\"relu\")(y)\n",
        "y = Model(inputs=input_stats, outputs=y)\n",
        "\n",
        "\n",
        "# Concatenate the two streams together\n",
        "combined = layers.concatenate([x.output, y.output])\n",
        "\n",
        "# Define joined Feed-Forward Layer\n",
        "z = layers.Dense(4, activation=\"relu\")(combined)\n",
        "\n",
        "# Define output node of 1 linear neuron (regression task)\n",
        "z = layers.Dense(1, activation=\"linear\")(z)\n",
        "\n",
        "\n",
        "# Define the final model\n",
        "model = Model(inputs=[x.input, y.input], outputs=z)"
      ]
    },
    {
      "cell_type": "code",
      "execution_count": null,
      "metadata": {
        "id": "GKRfw3DG8olD"
      },
      "outputs": [],
      "source": [
        "from tensorflow.keras.optimizers import Adam\n",
        "\n",
        "optimizer = Adam(learning_rate=0.01)\n",
        "\n",
        "model.compile(loss='mse', optimizer=optimizer, metrics=['mean_absolute_error'])"
      ]
    },
    {
      "cell_type": "code",
      "execution_count": null,
      "metadata": {
        "id": "kDPel6RZr8UR"
      },
      "outputs": [],
      "source": [
        "evaluation_list = []"
      ]
    },
    {
      "cell_type": "code",
      "execution_count": null,
      "metadata": {
        "colab": {
          "base_uri": "https://localhost:8080/"
        },
        "id": "OBmdWn918tiP",
        "outputId": "40976fb2-7efc-4345-8bc6-36a8c0ac0339"
      },
      "outputs": [
        {
          "name": "stdout",
          "output_type": "stream",
          "text": [
            "Epoch 1/5\n",
            "219/219 [==============================] - ETA: 0s - loss: 404.5878 - mean_absolute_error: 15.6831"
          ]
        },
        {
          "name": "stderr",
          "output_type": "stream",
          "text": [
            "WARNING:absl:Found untraced functions such as _jit_compiled_convolution_op, _jit_compiled_convolution_op, _jit_compiled_convolution_op, _jit_compiled_convolution_op, _jit_compiled_convolution_op while saving (showing 5 of 54). These functions will not be directly callable after loading.\n"
          ]
        },
        {
          "name": "stdout",
          "output_type": "stream",
          "text": [
            "\b\b\b\b\b\b\b\b\b\b\b\b\b\b\b\b\b\b\b\b\b\b\b\b\b\b\b\b\b\b\b\b\b\b\b\b\b\b\b\b\b\b\b\b\b\b\b\b\b\b\b\b\b\b\b\b\b\b\b\b\b\b\b\b\b\b\b\b\b\b\b\b\b\b\b\b\b\b\b\b\b\b\b\b\b\b\b\b\b\b\b\b\b\b\b\b\b\b\r219/219 [==============================] - 109s 437ms/step - loss: 404.5878 - mean_absolute_error: 15.6831 - val_loss: 307.6714 - val_mean_absolute_error: 14.3558\n",
            "Epoch 2/5\n",
            "219/219 [==============================] - ETA: 0s - loss: 278.4871 - mean_absolute_error: 13.4800"
          ]
        },
        {
          "name": "stderr",
          "output_type": "stream",
          "text": [
            "WARNING:absl:Found untraced functions such as _jit_compiled_convolution_op, _jit_compiled_convolution_op, _jit_compiled_convolution_op, _jit_compiled_convolution_op, _jit_compiled_convolution_op while saving (showing 5 of 54). These functions will not be directly callable after loading.\n"
          ]
        },
        {
          "name": "stdout",
          "output_type": "stream",
          "text": [
            "\b\b\b\b\b\b\b\b\b\b\b\b\b\b\b\b\b\b\b\b\b\b\b\b\b\b\b\b\b\b\b\b\b\b\b\b\b\b\b\b\b\b\b\b\b\b\b\b\b\b\b\b\b\b\b\b\b\b\b\b\b\b\b\b\b\b\b\b\b\b\b\b\b\b\b\b\b\b\b\b\b\b\b\b\b\b\b\b\b\b\b\b\b\b\b\b\b\b\r219/219 [==============================] - 95s 433ms/step - loss: 278.4871 - mean_absolute_error: 13.4800 - val_loss: 283.0169 - val_mean_absolute_error: 13.6886\n",
            "Epoch 3/5\n",
            "219/219 [==============================] - 75s 342ms/step - loss: 278.0450 - mean_absolute_error: 13.4585 - val_loss: 338.7612 - val_mean_absolute_error: 15.1124\n",
            "Epoch 4/5\n",
            "219/219 [==============================] - 74s 338ms/step - loss: 276.1990 - mean_absolute_error: 13.4351 - val_loss: 303.2436 - val_mean_absolute_error: 14.2566\n",
            "Epoch 5/5\n",
            "219/219 [==============================] - 75s 340ms/step - loss: 273.2068 - mean_absolute_error: 13.3733 - val_loss: 283.7263 - val_mean_absolute_error: 13.7176\n"
          ]
        },
        {
          "data": {
            "text/plain": [
              "<keras.callbacks.History at 0x7fce2029ca60>"
            ]
          },
          "execution_count": 16,
          "metadata": {},
          "output_type": "execute_result"
        }
      ],
      "source": [
        "from tensorflow.keras.callbacks import ModelCheckpoint\n",
        "\n",
        "cp = ModelCheckpoint('model/', save_best_only=True)\n",
        "\n",
        "model.fit(x=[X_train_pic, X_train_stats_scaled], y=y_train, validation_data=([X_val_pic, X_val_stats_scaled], y_val), epochs=5, callbacks=[cp])"
      ]
    },
    {
      "cell_type": "code",
      "execution_count": null,
      "metadata": {
        "colab": {
          "base_uri": "https://localhost:8080/"
        },
        "id": "XayoSGzFpQen",
        "outputId": "3a12c467-5eb1-4698-fdbc-1c4a8814e139"
      },
      "outputs": [
        {
          "name": "stdout",
          "output_type": "stream",
          "text": [
            "51/51 [==============================] - 4s 70ms/step - loss: 262.4462 - mean_absolute_error: 13.0471\n"
          ]
        }
      ],
      "source": [
        "evaluation_list.append(model.evaluate((X_test_pic, X_test_stats_scaled), y_test))"
      ]
    },
    {
      "cell_type": "code",
      "execution_count": null,
      "metadata": {
        "colab": {
          "base_uri": "https://localhost:8080/"
        },
        "id": "bzy2jpeCW170",
        "outputId": "c966c456-cc28-4f50-9d8d-4620df8cf420"
      },
      "outputs": [
        {
          "data": {
            "text/plain": [
              "[[262.4461669921875, 13.047080993652344]]"
            ]
          },
          "execution_count": 18,
          "metadata": {},
          "output_type": "execute_result"
        }
      ],
      "source": [
        "evaluation_list"
      ]
    },
    {
      "cell_type": "code",
      "execution_count": null,
      "metadata": {
        "colab": {
          "base_uri": "https://localhost:8080/"
        },
        "id": "eiY4jWYPWCjv",
        "outputId": "2920abbb-4741-4010-de31-8aa9ba1e8169"
      },
      "outputs": [
        {
          "name": "stderr",
          "output_type": "stream",
          "text": [
            "WARNING:absl:Found untraced functions such as _jit_compiled_convolution_op, _jit_compiled_convolution_op, _jit_compiled_convolution_op, _jit_compiled_convolution_op, _jit_compiled_convolution_op while saving (showing 5 of 54). These functions will not be directly callable after loading.\n"
          ]
        }
      ],
      "source": [
        "model.save('./my_model') "
      ]
    }
  ],
  "metadata": {
    "accelerator": "GPU",
    "colab": {
      "provenance": []
    },
    "gpuClass": "standard",
    "kernelspec": {
      "display_name": "Python 3",
      "language": "python",
      "name": "python3"
    },
    "language_info": {
      "name": "python",
      "version": "3.10.6 (v3.10.6:9c7b4bd164, Aug  1 2022, 17:13:48) [Clang 13.0.0 (clang-1300.0.29.30)]"
    },
    "vscode": {
      "interpreter": {
        "hash": "aee8b7b246df8f9039afb4144a1f6fd8d2ca17a180786b69acc140d282b71a49"
      }
    }
  },
  "nbformat": 4,
  "nbformat_minor": 0
}
