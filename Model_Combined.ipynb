{
  "cells": [
    {
      "cell_type": "code",
      "execution_count": 10,
      "metadata": {
        "id": "JC3rKZhEWZt-"
      },
      "outputs": [],
      "source": [
        "import pandas as pd\n",
        "import numpy as np\n",
        "import os\n",
        "from PIL import Image\n",
        "import tensorflow as tf\n",
        "import tensorflow_datasets as tfds\n",
        "from tensorflow.keras.preprocessing.image import img_to_array\n",
        "import cv2\n",
        "from PIL import Image"
      ]
    },
    {
      "cell_type": "markdown",
      "metadata": {
        "id": "vOnSZuHMYLoD"
      },
      "source": [
        "## Load Model and datas"
      ]
    },
    {
      "cell_type": "code",
      "execution_count": 11,
      "metadata": {
        "id": "9cqPhUM9WkXt"
      },
      "outputs": [],
      "source": [
        "model = tf.keras.models.load_model('./my_model', compile=True)"
      ]
    },
    {
      "cell_type": "code",
      "execution_count": 12,
      "metadata": {
        "id": "n-jLguKZqbFK"
      },
      "outputs": [],
      "source": [
        "my_liked_song = pd.read_csv(\"./DF/My_Liked_Songs.csv\")"
      ]
    },
    {
      "cell_type": "code",
      "execution_count": null,
      "metadata": {
        "id": "gTGslo4_o5dM"
      },
      "outputs": [],
      "source": [
        "import spotipy\n",
        "from spotipy.oauth2 import SpotifyClientCredentials\n",
        "\n",
        "sp = spotipy.Spotify(client_credentials_manager=SpotifyClientCredentials(\n",
        "    client_id=\"CLIENT_ID\",\n",
        "    client_secret=\"KEY\"))"
      ]
    },
    {
      "cell_type": "code",
      "execution_count": 14,
      "metadata": {
        "id": "u-_qBwmJrUB0"
      },
      "outputs": [],
      "source": [
        "tracklist_ids = list(my_liked_song['Song_ID'])\n",
        "tracklist_ids_sublists = [tracklist_ids[x:x+50] for x in range(0, len(tracklist_ids), 50)]"
      ]
    },
    {
      "cell_type": "code",
      "execution_count": 16,
      "metadata": {
        "id": "432yxhB1p916"
      },
      "outputs": [],
      "source": [
        "tracks_list=[]\n",
        "for i in tracklist_ids_sublists:\n",
        "    tracks_list.append(sp.tracks(i))"
      ]
    },
    {
      "cell_type": "code",
      "execution_count": 17,
      "metadata": {
        "id": "dhYuFXwgrmRd"
      },
      "outputs": [],
      "source": [
        "# %% LISTS DETAILS FROM TRACKS\n",
        "track_id = []\n",
        "track_name = []\n",
        "track_artist = []\n",
        "track_popularity = []\n",
        "track_url = []\n",
        "\n",
        "for i in range(len(tracks_list)):\n",
        "    for j in range(len(tracks_list[i]['tracks'])):\n",
        "        track_id.append(tracks_list[i]['tracks'][j]['id'])\n",
        "        track_name.append(tracks_list[i]['tracks'][j]['name'])\n",
        "        track_artist.append(tracks_list[i]['tracks'][j]['artists'][0]['name'])\n",
        "        track_popularity.append(tracks_list[i]['tracks'][j]['popularity'])\n",
        "        track_url.append(tracks_list[i]['tracks'][j]['preview_url'])"
      ]
    },
    {
      "cell_type": "code",
      "execution_count": 18,
      "metadata": {
        "id": "1dhVKgVos5pM"
      },
      "outputs": [],
      "source": [
        "my_Music = pd.DataFrame({\n",
        "    'Track_ID' : track_id,\n",
        "    'Track_Title' : track_name,\n",
        "    'Track_Artist' : track_artist,\n",
        "    'Track_Popularity' : track_popularity,\n",
        "    'Track_URL' : track_url\n",
        "})"
      ]
    },
    {
      "cell_type": "code",
      "execution_count": 19,
      "metadata": {
        "id": "7SvP8KUcs8Xc"
      },
      "outputs": [],
      "source": [
        "my_Music = my_Music.loc[~my_Music.Track_URL.isna()]"
      ]
    },
    {
      "cell_type": "code",
      "execution_count": 20,
      "metadata": {
        "id": "RRoN-gN0uONF"
      },
      "outputs": [],
      "source": [
        "#%% LIST OF TRACKS IDs\n",
        "tracklist_ids = list(my_Music['Track_ID'])\n",
        "\n",
        "tracklist_ids_sublists = [tracklist_ids[x:x+100] for x in range(0, len(tracklist_ids), 100)]\n",
        "\n",
        "#%% AUDIO FEATURES API CALL\n",
        "audio_features_list=[]\n",
        "for i in tracklist_ids_sublists:\n",
        "    audio_features_list.append(sp.audio_features(i))"
      ]
    },
    {
      "attachments": {},
      "cell_type": "markdown",
      "metadata": {},
      "source": [
        "# GET AUDIO FEATURES FOR THE SONGS"
      ]
    },
    {
      "cell_type": "code",
      "execution_count": 21,
      "metadata": {
        "id": "0iFdvnGLuZtw"
      },
      "outputs": [],
      "source": [
        "#%% TAKE AUDIO FEATURES DETAILS\n",
        "id = []\n",
        "danceability = []\n",
        "energy = []\n",
        "key = []\n",
        "loudness = []\n",
        "mode = []\n",
        "speechiness = []\n",
        "acousticness = []\n",
        "instrumentalness = []\n",
        "liveness = []\n",
        "valence = []\n",
        "tempo = []\n",
        "\n",
        "for i in range(len(audio_features_list)):\n",
        "    for j in range(len(audio_features_list[i])):\n",
        "        if audio_features_list[i][j] is not None:\n",
        "            if audio_features_list[i][j]['id'] is not None:\n",
        "                id.append(audio_features_list[i][j]['id'])\n",
        "            else:\n",
        "                id.append('')\n",
        "            if audio_features_list[i][j]['danceability'] is not None:\n",
        "                danceability.append(audio_features_list[i][j]['danceability'])\n",
        "            else:\n",
        "                danceability.append('')\n",
        "            if audio_features_list[i][j]['energy'] is not None:\n",
        "                energy.append(audio_features_list[i][j]['energy'])\n",
        "            else:\n",
        "                energy.append('')\n",
        "            if audio_features_list[i][j]['key'] is not None:\n",
        "                key.append(audio_features_list[i][j]['key'])\n",
        "            else:\n",
        "                key.append('')\n",
        "            if audio_features_list[i][j]['loudness'] is not None:\n",
        "                loudness.append(audio_features_list[i][j]['loudness'])\n",
        "            else:\n",
        "                loudness.append('')\n",
        "            if audio_features_list[i][j]['mode'] is not None:\n",
        "                mode.append(audio_features_list[i][j]['mode'])\n",
        "            else:\n",
        "                mode.append('')\n",
        "            if audio_features_list[i][j]['speechiness'] is not None:\n",
        "                speechiness.append(audio_features_list[i][j]['speechiness'])\n",
        "            else: \n",
        "                speechiness.append('')\n",
        "            if audio_features_list[i][j]['acousticness'] is not None: \n",
        "                acousticness.append(audio_features_list[i][j]['acousticness'])\n",
        "            else: \n",
        "                acousticness.append('')\n",
        "            if audio_features_list[i][j]['instrumentalness'] is not None:\n",
        "                instrumentalness.append(audio_features_list[i][j]['instrumentalness'])\n",
        "            else:\n",
        "                instrumentalness.append('')\n",
        "            if audio_features_list[i][j]['liveness'] is not None:\n",
        "                liveness.append(audio_features_list[i][j]['liveness'])\n",
        "            else: \n",
        "                liveness.append('')\n",
        "            if audio_features_list[i][j]['valence'] is not None:\n",
        "                valence.append(audio_features_list[i][j]['valence'])\n",
        "            else: \n",
        "                valence.append('')\n",
        "            if audio_features_list[i][j]['tempo'] is not None:\n",
        "                tempo.append(audio_features_list[i][j]['tempo'])\n",
        "            else :\n",
        "                tempo.append('')\n",
        "        else:\n",
        "            continue\n",
        "\n",
        "#%% DF AUDIO FEATURES TRACKS\n",
        "audio_features_df = pd.DataFrame({\n",
        "    'Track_ID' : id,\n",
        "    'Danceability' : danceability,\n",
        "    'Energy' : energy,\n",
        "    'Key' : key,\n",
        "    'Loudness' : loudness,\n",
        "    'Mode' : mode,\n",
        "    'Speechiness': speechiness,\n",
        "    'Acoutsicness' : acousticness,\n",
        "    'Instrumentalness' : instrumentalness,\n",
        "    'Liveness' : liveness,\n",
        "    'Valence' : valence,\n",
        "    'Tempo' : tempo \n",
        "})"
      ]
    },
    {
      "cell_type": "code",
      "execution_count": 22,
      "metadata": {
        "colab": {
          "base_uri": "https://localhost:8080/",
          "height": 487
        },
        "id": "vi9U5hixuhxs",
        "outputId": "f5b7cb90-53cb-4f60-b43c-81f31af2a177"
      },
      "outputs": [
        {
          "data": {
            "text/html": [
              "<div>\n",
              "<style scoped>\n",
              "    .dataframe tbody tr th:only-of-type {\n",
              "        vertical-align: middle;\n",
              "    }\n",
              "\n",
              "    .dataframe tbody tr th {\n",
              "        vertical-align: top;\n",
              "    }\n",
              "\n",
              "    .dataframe thead th {\n",
              "        text-align: right;\n",
              "    }\n",
              "</style>\n",
              "<table border=\"1\" class=\"dataframe\">\n",
              "  <thead>\n",
              "    <tr style=\"text-align: right;\">\n",
              "      <th></th>\n",
              "      <th>Track_ID</th>\n",
              "      <th>Danceability</th>\n",
              "      <th>Energy</th>\n",
              "      <th>Key</th>\n",
              "      <th>Loudness</th>\n",
              "      <th>Mode</th>\n",
              "      <th>Speechiness</th>\n",
              "      <th>Acoutsicness</th>\n",
              "      <th>Instrumentalness</th>\n",
              "      <th>Liveness</th>\n",
              "      <th>Valence</th>\n",
              "      <th>Tempo</th>\n",
              "    </tr>\n",
              "  </thead>\n",
              "  <tbody>\n",
              "    <tr>\n",
              "      <th>0</th>\n",
              "      <td>69FKjWduD5QS7Au7LV51y4</td>\n",
              "      <td>0.886</td>\n",
              "      <td>0.326</td>\n",
              "      <td>3</td>\n",
              "      <td>-13.929</td>\n",
              "      <td>0</td>\n",
              "      <td>0.0633</td>\n",
              "      <td>0.4270</td>\n",
              "      <td>0.374000</td>\n",
              "      <td>0.1670</td>\n",
              "      <td>0.6910</td>\n",
              "      <td>125.034</td>\n",
              "    </tr>\n",
              "    <tr>\n",
              "      <th>1</th>\n",
              "      <td>1dWxSS2a93X4XVfs1mSYkB</td>\n",
              "      <td>0.448</td>\n",
              "      <td>0.111</td>\n",
              "      <td>10</td>\n",
              "      <td>-20.606</td>\n",
              "      <td>1</td>\n",
              "      <td>0.0353</td>\n",
              "      <td>0.9910</td>\n",
              "      <td>0.898000</td>\n",
              "      <td>0.0974</td>\n",
              "      <td>0.0755</td>\n",
              "      <td>74.760</td>\n",
              "    </tr>\n",
              "    <tr>\n",
              "      <th>2</th>\n",
              "      <td>1mPqkPH49x4jSGa4pIvqvr</td>\n",
              "      <td>0.980</td>\n",
              "      <td>0.509</td>\n",
              "      <td>3</td>\n",
              "      <td>-11.089</td>\n",
              "      <td>1</td>\n",
              "      <td>0.0601</td>\n",
              "      <td>0.1870</td>\n",
              "      <td>0.828000</td>\n",
              "      <td>0.0872</td>\n",
              "      <td>0.7080</td>\n",
              "      <td>119.997</td>\n",
              "    </tr>\n",
              "    <tr>\n",
              "      <th>3</th>\n",
              "      <td>7iUQROXqrJGdnzGsmDJy0A</td>\n",
              "      <td>0.721</td>\n",
              "      <td>0.516</td>\n",
              "      <td>3</td>\n",
              "      <td>-11.864</td>\n",
              "      <td>0</td>\n",
              "      <td>0.0384</td>\n",
              "      <td>0.4190</td>\n",
              "      <td>0.854000</td>\n",
              "      <td>0.1120</td>\n",
              "      <td>0.2030</td>\n",
              "      <td>123.036</td>\n",
              "    </tr>\n",
              "    <tr>\n",
              "      <th>4</th>\n",
              "      <td>5IgjP7X4th6nMNDh4akUHb</td>\n",
              "      <td>0.733</td>\n",
              "      <td>0.690</td>\n",
              "      <td>9</td>\n",
              "      <td>-5.529</td>\n",
              "      <td>0</td>\n",
              "      <td>0.0427</td>\n",
              "      <td>0.0635</td>\n",
              "      <td>0.000001</td>\n",
              "      <td>0.1050</td>\n",
              "      <td>0.3100</td>\n",
              "      <td>116.992</td>\n",
              "    </tr>\n",
              "    <tr>\n",
              "      <th>...</th>\n",
              "      <td>...</td>\n",
              "      <td>...</td>\n",
              "      <td>...</td>\n",
              "      <td>...</td>\n",
              "      <td>...</td>\n",
              "      <td>...</td>\n",
              "      <td>...</td>\n",
              "      <td>...</td>\n",
              "      <td>...</td>\n",
              "      <td>...</td>\n",
              "      <td>...</td>\n",
              "      <td>...</td>\n",
              "    </tr>\n",
              "    <tr>\n",
              "      <th>708</th>\n",
              "      <td>4NYwy0R3NdvORX2B6OZXBT</td>\n",
              "      <td>0.733</td>\n",
              "      <td>0.408</td>\n",
              "      <td>7</td>\n",
              "      <td>-7.834</td>\n",
              "      <td>0</td>\n",
              "      <td>0.0388</td>\n",
              "      <td>0.6790</td>\n",
              "      <td>0.000039</td>\n",
              "      <td>0.1100</td>\n",
              "      <td>0.2910</td>\n",
              "      <td>94.947</td>\n",
              "    </tr>\n",
              "    <tr>\n",
              "      <th>709</th>\n",
              "      <td>6GnhWMhgJb7uyiiPEiEkDA</td>\n",
              "      <td>0.843</td>\n",
              "      <td>0.435</td>\n",
              "      <td>8</td>\n",
              "      <td>-8.442</td>\n",
              "      <td>1</td>\n",
              "      <td>0.1780</td>\n",
              "      <td>0.4700</td>\n",
              "      <td>0.000000</td>\n",
              "      <td>0.1470</td>\n",
              "      <td>0.1900</td>\n",
              "      <td>120.058</td>\n",
              "    </tr>\n",
              "    <tr>\n",
              "      <th>710</th>\n",
              "      <td>1jkIErXa3YNUX5QIyO6GGR</td>\n",
              "      <td>0.759</td>\n",
              "      <td>0.245</td>\n",
              "      <td>6</td>\n",
              "      <td>-6.545</td>\n",
              "      <td>1</td>\n",
              "      <td>0.1380</td>\n",
              "      <td>0.5150</td>\n",
              "      <td>0.000154</td>\n",
              "      <td>0.1020</td>\n",
              "      <td>0.2090</td>\n",
              "      <td>96.992</td>\n",
              "    </tr>\n",
              "    <tr>\n",
              "      <th>711</th>\n",
              "      <td>0CoqlnDbWb6fB21K7HT4dv</td>\n",
              "      <td>0.568</td>\n",
              "      <td>0.634</td>\n",
              "      <td>9</td>\n",
              "      <td>-7.663</td>\n",
              "      <td>0</td>\n",
              "      <td>0.0714</td>\n",
              "      <td>0.1070</td>\n",
              "      <td>0.000000</td>\n",
              "      <td>0.0543</td>\n",
              "      <td>0.4980</td>\n",
              "      <td>139.909</td>\n",
              "    </tr>\n",
              "    <tr>\n",
              "      <th>712</th>\n",
              "      <td>1Pw5C4N6Fn5E4mGCxmbbVa</td>\n",
              "      <td>0.400</td>\n",
              "      <td>0.564</td>\n",
              "      <td>10</td>\n",
              "      <td>-7.444</td>\n",
              "      <td>1</td>\n",
              "      <td>0.0523</td>\n",
              "      <td>0.6930</td>\n",
              "      <td>0.000000</td>\n",
              "      <td>0.0863</td>\n",
              "      <td>0.4830</td>\n",
              "      <td>99.269</td>\n",
              "    </tr>\n",
              "  </tbody>\n",
              "</table>\n",
              "<p>713 rows × 12 columns</p>\n",
              "</div>"
            ],
            "text/plain": [
              "                   Track_ID  Danceability  Energy  Key  Loudness  Mode  \\\n",
              "0    69FKjWduD5QS7Au7LV51y4         0.886   0.326    3   -13.929     0   \n",
              "1    1dWxSS2a93X4XVfs1mSYkB         0.448   0.111   10   -20.606     1   \n",
              "2    1mPqkPH49x4jSGa4pIvqvr         0.980   0.509    3   -11.089     1   \n",
              "3    7iUQROXqrJGdnzGsmDJy0A         0.721   0.516    3   -11.864     0   \n",
              "4    5IgjP7X4th6nMNDh4akUHb         0.733   0.690    9    -5.529     0   \n",
              "..                      ...           ...     ...  ...       ...   ...   \n",
              "708  4NYwy0R3NdvORX2B6OZXBT         0.733   0.408    7    -7.834     0   \n",
              "709  6GnhWMhgJb7uyiiPEiEkDA         0.843   0.435    8    -8.442     1   \n",
              "710  1jkIErXa3YNUX5QIyO6GGR         0.759   0.245    6    -6.545     1   \n",
              "711  0CoqlnDbWb6fB21K7HT4dv         0.568   0.634    9    -7.663     0   \n",
              "712  1Pw5C4N6Fn5E4mGCxmbbVa         0.400   0.564   10    -7.444     1   \n",
              "\n",
              "     Speechiness  Acoutsicness  Instrumentalness  Liveness  Valence    Tempo  \n",
              "0         0.0633        0.4270          0.374000    0.1670   0.6910  125.034  \n",
              "1         0.0353        0.9910          0.898000    0.0974   0.0755   74.760  \n",
              "2         0.0601        0.1870          0.828000    0.0872   0.7080  119.997  \n",
              "3         0.0384        0.4190          0.854000    0.1120   0.2030  123.036  \n",
              "4         0.0427        0.0635          0.000001    0.1050   0.3100  116.992  \n",
              "..           ...           ...               ...       ...      ...      ...  \n",
              "708       0.0388        0.6790          0.000039    0.1100   0.2910   94.947  \n",
              "709       0.1780        0.4700          0.000000    0.1470   0.1900  120.058  \n",
              "710       0.1380        0.5150          0.000154    0.1020   0.2090   96.992  \n",
              "711       0.0714        0.1070          0.000000    0.0543   0.4980  139.909  \n",
              "712       0.0523        0.6930          0.000000    0.0863   0.4830   99.269  \n",
              "\n",
              "[713 rows x 12 columns]"
            ]
          },
          "execution_count": 22,
          "metadata": {},
          "output_type": "execute_result"
        }
      ],
      "source": [
        "audio_features_df"
      ]
    },
    {
      "cell_type": "code",
      "execution_count": 23,
      "metadata": {
        "id": "ymtBp2HavkHx"
      },
      "outputs": [],
      "source": [
        "test_pred = pd.merge(my_Music, audio_features_df, on='Track_ID')"
      ]
    },
    {
      "cell_type": "markdown",
      "metadata": {
        "id": "vINJX38HYXhf"
      },
      "source": [
        "## Functions to retrieve spectrograms"
      ]
    },
    {
      "cell_type": "code",
      "execution_count": 24,
      "metadata": {
        "id": "zX4sZRUQvwWK"
      },
      "outputs": [],
      "source": [
        "import requests\n",
        "from pydub import AudioSegment\n",
        "import librosa\n",
        "import librosa.display\n",
        "import matplotlib.pyplot as plt\n",
        "import librosa.display\n",
        "\n",
        "def retrieve_mp3s():\n",
        "    for i in range(len(test_pred['Track_ID'])):\n",
        "        if test_pred['Track_URL'][i] is not None:\n",
        "            r = requests.get(test_pred['Track_URL'][i])  \n",
        "            file_name = test_pred['Track_ID'][i]\n",
        "            with open(fr'./Docs/Mp3/{file_name}.mp3', 'wb') as f:\n",
        "                f.write(r.content)\n",
        "        else:\n",
        "            continue\n",
        "\n",
        "def convert_mp3_to_wav():\n",
        "  for filename in os.listdir('./Docs/Mp3'):        \n",
        "    try:\n",
        "        file_name = filename.split('.')[0]\n",
        "        AudioSegment.from_mp3(fr'./Docs/Mp3/{file_name}.mp3').export(fr'./Docs/Wav/{file_name}.wav', format=\"wav\")\n",
        "    except:\n",
        "        pass\n",
        "\n",
        "def visualize_waveform():\n",
        "  for filename in os.listdir('./Docs/Wav/'):\n",
        "    y, sr = librosa.load(f'./Docs/Wav/{filename}',duration=30)\n",
        "    spec = librosa.feature.melspectrogram(y=y, sr=sr)\n",
        "    fig, ax = plt.subplots()\n",
        "    S_dB = librosa.power_to_db(spec, ref=np.max)\n",
        "    img = librosa.display.specshow(S_dB, x_axis='time', y_axis='mel', sr=sr, fmax=8000, ax=ax)\n",
        "    plt.savefig(f\"./Docs/IMG/{filename.split('.')[0]}.png\")\n",
        "\n"
      ]
    },
    {
      "cell_type": "code",
      "execution_count": 194,
      "metadata": {
        "id": "1yj0odpTAzNQ"
      },
      "outputs": [],
      "source": [
        "def crop_image():\n",
        "    from PIL import Image\n",
        "    for files in os.listdir('./Docs/IMG/'):\n",
        "      try:\n",
        "        image_name = files.split('.')[0]\n",
        "        im = Image.open(f'./Docs/IMG/{files}')\n",
        "        left, top, right, bottom = 79, 58, 578, 428\n",
        "        im1 = im.crop((left, top, right, bottom))\n",
        "        im1.save('./Docs/IMG/Reshaped/' + image_name +'_reshaped.png')\n",
        "      except:\n",
        "        continue\n",
        "\n",
        "\n",
        "def reduce_image_size():\n",
        "    from PIL import Image\n",
        "    for files in os.listdir('./Docs/IMG/Reshaped/'):\n",
        "      try:\n",
        "        image_name = files.split('_')[0]\n",
        "        im = Image.open(f'./Docs/IMG/Reshaped/{files}')\n",
        "        im = im.resize((320, 240),Image.ANTIALIAS)\n",
        "        im = im.convert('RGB')\n",
        "        im.save('./Docs/IMG/Resized/' + image_name +'_resized.png', quality=70)\n",
        "      except:\n",
        "        continue"
      ]
    },
    {
      "cell_type": "code",
      "execution_count": null,
      "metadata": {
        "id": "gYDvt92gzRmh"
      },
      "outputs": [],
      "source": [
        "retrieve_mp3s()"
      ]
    },
    {
      "cell_type": "code",
      "execution_count": 27,
      "metadata": {
        "id": "qO-ol5c50Eff"
      },
      "outputs": [],
      "source": [
        "convert_mp3_to_wav()"
      ]
    },
    {
      "cell_type": "code",
      "execution_count": 46,
      "metadata": {},
      "outputs": [
        {
          "data": {
            "image/png": "[encoded data removed]",
            "text/plain": [
              "<Figure size 640x480 with 1 Axes>"
            ]
          },
          "metadata": {},
          "output_type": "display_data"
        }
      ],
      "source": [
        "visualize_waveform()"
      ]
    },
    {
      "cell_type": "code",
      "execution_count": 95,
      "metadata": {
        "colab": {
          "base_uri": "https://localhost:8080/",
          "height": 329
        },
        "id": "W-cumZTm251O",
        "outputId": "ac214189-c7ba-4d21-96d2-8cd20915ccde"
      },
      "outputs": [],
      "source": [
        "crop_image()"
      ]
    },
    {
      "cell_type": "code",
      "execution_count": 195,
      "metadata": {},
      "outputs": [
        {
          "name": "stderr",
          "output_type": "stream",
          "text": [
            "/var/folders/kq/fhf47yp54w1byy_p5j5n4c340000gn/T/ipykernel_2414/2723063280.py:20: DeprecationWarning: ANTIALIAS is deprecated and will be removed in Pillow 10 (2023-07-01). Use Resampling.LANCZOS instead.\n",
            "  im = im.resize((320, 240),Image.ANTIALIAS)\n"
          ]
        }
      ],
      "source": [
        "reduce_image_size()"
      ]
    },
    {
      "cell_type": "code",
      "execution_count": 196,
      "metadata": {
        "id": "7fFYDNK-NWRq"
      },
      "outputs": [],
      "source": [
        "test_pred['Path'] = './Docs/IMG/Resized/' + test_pred['Track_ID'] + '_resized.png'"
      ]
    },
    {
      "cell_type": "code",
      "execution_count": 197,
      "metadata": {
        "id": "KbkU-GWXP6By"
      },
      "outputs": [],
      "source": [
        "list_ids_img = []\n",
        "for files in os.listdir('./Docs/IMG'):\n",
        "  list_ids_img.append(files.split('.')[0])"
      ]
    },
    {
      "cell_type": "code",
      "execution_count": 198,
      "metadata": {
        "id": "x9INS8B8TfBk"
      },
      "outputs": [],
      "source": [
        "np_img = []\n",
        "for i in os.listdir('./Docs/IMG/Resized/'):\n",
        "  try:\n",
        "    image = Image.open(f'./Docs/IMG/Resized/{i}')\n",
        "    np_img.append(np.asarray(image,dtype=np.float32))\n",
        "  except:\n",
        "    continue\n",
        "    print(i)"
      ]
    },
    {
      "cell_type": "code",
      "execution_count": 199,
      "metadata": {},
      "outputs": [
        {
          "data": {
            "text/plain": [
              "(240, 320, 3)"
            ]
          },
          "execution_count": 199,
          "metadata": {},
          "output_type": "execute_result"
        }
      ],
      "source": [
        "np_img[0].shape"
      ]
    },
    {
      "cell_type": "code",
      "execution_count": 200,
      "metadata": {
        "id": "uUXbEu0sPvzW"
      },
      "outputs": [],
      "source": [
        "test_pred_real = test_pred.loc[test_pred.Track_ID.isin(list_ids_img)]"
      ]
    },
    {
      "cell_type": "code",
      "execution_count": 201,
      "metadata": {
        "colab": {
          "base_uri": "https://localhost:8080/"
        },
        "id": "kZP841ChUkYI",
        "outputId": "05595ae1-9e0f-4410-85b8-19ff9290a3d2"
      },
      "outputs": [
        {
          "name": "stderr",
          "output_type": "stream",
          "text": [
            "/var/folders/kq/fhf47yp54w1byy_p5j5n4c340000gn/T/ipykernel_2414/4000404896.py:1: SettingWithCopyWarning: \n",
            "A value is trying to be set on a copy of a slice from a DataFrame\n",
            "\n",
            "See the caveats in the documentation: https://pandas.pydata.org/pandas-docs/stable/user_guide/indexing.html#returning-a-view-versus-a-copy\n",
            "  test_pred_real.drop(columns=['Track_ID', 'Track_Title', 'Track_Artist', 'Track_Popularity','Track_URL', 'Path', 'NPZ_Path'], inplace= True)\n"
          ]
        }
      ],
      "source": [
        "test_pred_real.drop(columns=['Track_ID', 'Track_Title', 'Track_Artist', 'Track_Popularity','Track_URL', 'Path', 'NPZ_Path'], inplace= True)"
      ]
    },
    {
      "cell_type": "code",
      "execution_count": 202,
      "metadata": {},
      "outputs": [
        {
          "data": {
            "text/html": [
              "<div>\n",
              "<style scoped>\n",
              "    .dataframe tbody tr th:only-of-type {\n",
              "        vertical-align: middle;\n",
              "    }\n",
              "\n",
              "    .dataframe tbody tr th {\n",
              "        vertical-align: top;\n",
              "    }\n",
              "\n",
              "    .dataframe thead th {\n",
              "        text-align: right;\n",
              "    }\n",
              "</style>\n",
              "<table border=\"1\" class=\"dataframe\">\n",
              "  <thead>\n",
              "    <tr style=\"text-align: right;\">\n",
              "      <th></th>\n",
              "      <th>Danceability</th>\n",
              "      <th>Energy</th>\n",
              "      <th>Key</th>\n",
              "      <th>Loudness</th>\n",
              "      <th>Mode</th>\n",
              "      <th>Speechiness</th>\n",
              "      <th>Acoutsicness</th>\n",
              "      <th>Instrumentalness</th>\n",
              "      <th>Liveness</th>\n",
              "      <th>Valence</th>\n",
              "      <th>Tempo</th>\n",
              "    </tr>\n",
              "  </thead>\n",
              "  <tbody>\n",
              "    <tr>\n",
              "      <th>21</th>\n",
              "      <td>0.449</td>\n",
              "      <td>0.465</td>\n",
              "      <td>0</td>\n",
              "      <td>-8.964</td>\n",
              "      <td>1</td>\n",
              "      <td>0.0791</td>\n",
              "      <td>0.52400</td>\n",
              "      <td>0.000001</td>\n",
              "      <td>0.3030</td>\n",
              "      <td>0.543</td>\n",
              "      <td>89.087</td>\n",
              "    </tr>\n",
              "    <tr>\n",
              "      <th>48</th>\n",
              "      <td>0.501</td>\n",
              "      <td>0.211</td>\n",
              "      <td>5</td>\n",
              "      <td>-11.719</td>\n",
              "      <td>0</td>\n",
              "      <td>0.0386</td>\n",
              "      <td>0.93700</td>\n",
              "      <td>0.000574</td>\n",
              "      <td>0.1020</td>\n",
              "      <td>0.131</td>\n",
              "      <td>77.784</td>\n",
              "    </tr>\n",
              "    <tr>\n",
              "      <th>50</th>\n",
              "      <td>0.646</td>\n",
              "      <td>0.471</td>\n",
              "      <td>10</td>\n",
              "      <td>-9.247</td>\n",
              "      <td>1</td>\n",
              "      <td>0.1570</td>\n",
              "      <td>0.12200</td>\n",
              "      <td>0.000000</td>\n",
              "      <td>0.1250</td>\n",
              "      <td>0.455</td>\n",
              "      <td>170.084</td>\n",
              "    </tr>\n",
              "    <tr>\n",
              "      <th>59</th>\n",
              "      <td>0.757</td>\n",
              "      <td>0.446</td>\n",
              "      <td>11</td>\n",
              "      <td>-8.355</td>\n",
              "      <td>0</td>\n",
              "      <td>0.3850</td>\n",
              "      <td>0.66700</td>\n",
              "      <td>0.000051</td>\n",
              "      <td>0.0626</td>\n",
              "      <td>0.509</td>\n",
              "      <td>193.853</td>\n",
              "    </tr>\n",
              "    <tr>\n",
              "      <th>76</th>\n",
              "      <td>0.802</td>\n",
              "      <td>0.864</td>\n",
              "      <td>6</td>\n",
              "      <td>-5.442</td>\n",
              "      <td>0</td>\n",
              "      <td>0.0386</td>\n",
              "      <td>0.10600</td>\n",
              "      <td>0.001070</td>\n",
              "      <td>0.0408</td>\n",
              "      <td>0.828</td>\n",
              "      <td>115.997</td>\n",
              "    </tr>\n",
              "    <tr>\n",
              "      <th>85</th>\n",
              "      <td>0.927</td>\n",
              "      <td>0.377</td>\n",
              "      <td>11</td>\n",
              "      <td>-9.180</td>\n",
              "      <td>1</td>\n",
              "      <td>0.0548</td>\n",
              "      <td>0.00978</td>\n",
              "      <td>0.000026</td>\n",
              "      <td>0.0564</td>\n",
              "      <td>0.561</td>\n",
              "      <td>105.000</td>\n",
              "    </tr>\n",
              "    <tr>\n",
              "      <th>112</th>\n",
              "      <td>0.569</td>\n",
              "      <td>0.657</td>\n",
              "      <td>1</td>\n",
              "      <td>-7.571</td>\n",
              "      <td>0</td>\n",
              "      <td>0.1180</td>\n",
              "      <td>0.82600</td>\n",
              "      <td>0.291000</td>\n",
              "      <td>0.1060</td>\n",
              "      <td>0.411</td>\n",
              "      <td>124.869</td>\n",
              "    </tr>\n",
              "    <tr>\n",
              "      <th>129</th>\n",
              "      <td>0.862</td>\n",
              "      <td>0.753</td>\n",
              "      <td>5</td>\n",
              "      <td>-5.356</td>\n",
              "      <td>1</td>\n",
              "      <td>0.0625</td>\n",
              "      <td>0.13100</td>\n",
              "      <td>0.000002</td>\n",
              "      <td>0.0770</td>\n",
              "      <td>0.827</td>\n",
              "      <td>105.039</td>\n",
              "    </tr>\n",
              "    <tr>\n",
              "      <th>148</th>\n",
              "      <td>0.679</td>\n",
              "      <td>0.610</td>\n",
              "      <td>7</td>\n",
              "      <td>-10.936</td>\n",
              "      <td>0</td>\n",
              "      <td>0.0305</td>\n",
              "      <td>0.58500</td>\n",
              "      <td>0.000095</td>\n",
              "      <td>0.1560</td>\n",
              "      <td>0.554</td>\n",
              "      <td>123.978</td>\n",
              "    </tr>\n",
              "    <tr>\n",
              "      <th>165</th>\n",
              "      <td>0.792</td>\n",
              "      <td>0.773</td>\n",
              "      <td>2</td>\n",
              "      <td>-6.289</td>\n",
              "      <td>0</td>\n",
              "      <td>0.2640</td>\n",
              "      <td>0.34400</td>\n",
              "      <td>0.260000</td>\n",
              "      <td>0.1670</td>\n",
              "      <td>0.762</td>\n",
              "      <td>98.963</td>\n",
              "    </tr>\n",
              "    <tr>\n",
              "      <th>185</th>\n",
              "      <td>0.883</td>\n",
              "      <td>0.668</td>\n",
              "      <td>0</td>\n",
              "      <td>-4.201</td>\n",
              "      <td>1</td>\n",
              "      <td>0.2850</td>\n",
              "      <td>0.02280</td>\n",
              "      <td>0.083800</td>\n",
              "      <td>0.1240</td>\n",
              "      <td>0.510</td>\n",
              "      <td>110.014</td>\n",
              "    </tr>\n",
              "  </tbody>\n",
              "</table>\n",
              "</div>"
            ],
            "text/plain": [
              "     Danceability  Energy  Key  Loudness  Mode  Speechiness  Acoutsicness  \\\n",
              "21          0.449   0.465    0    -8.964     1       0.0791       0.52400   \n",
              "48          0.501   0.211    5   -11.719     0       0.0386       0.93700   \n",
              "50          0.646   0.471   10    -9.247     1       0.1570       0.12200   \n",
              "59          0.757   0.446   11    -8.355     0       0.3850       0.66700   \n",
              "76          0.802   0.864    6    -5.442     0       0.0386       0.10600   \n",
              "85          0.927   0.377   11    -9.180     1       0.0548       0.00978   \n",
              "112         0.569   0.657    1    -7.571     0       0.1180       0.82600   \n",
              "129         0.862   0.753    5    -5.356     1       0.0625       0.13100   \n",
              "148         0.679   0.610    7   -10.936     0       0.0305       0.58500   \n",
              "165         0.792   0.773    2    -6.289     0       0.2640       0.34400   \n",
              "185         0.883   0.668    0    -4.201     1       0.2850       0.02280   \n",
              "\n",
              "     Instrumentalness  Liveness  Valence    Tempo  \n",
              "21           0.000001    0.3030    0.543   89.087  \n",
              "48           0.000574    0.1020    0.131   77.784  \n",
              "50           0.000000    0.1250    0.455  170.084  \n",
              "59           0.000051    0.0626    0.509  193.853  \n",
              "76           0.001070    0.0408    0.828  115.997  \n",
              "85           0.000026    0.0564    0.561  105.000  \n",
              "112          0.291000    0.1060    0.411  124.869  \n",
              "129          0.000002    0.0770    0.827  105.039  \n",
              "148          0.000095    0.1560    0.554  123.978  \n",
              "165          0.260000    0.1670    0.762   98.963  \n",
              "185          0.083800    0.1240    0.510  110.014  "
            ]
          },
          "execution_count": 202,
          "metadata": {},
          "output_type": "execute_result"
        }
      ],
      "source": [
        "test_pred_real"
      ]
    },
    {
      "cell_type": "code",
      "execution_count": 203,
      "metadata": {
        "id": "Fg24clElUix5"
      },
      "outputs": [],
      "source": [
        "np_stats = test_pred_real\n",
        "np_stats = np.array(np_stats)"
      ]
    },
    {
      "cell_type": "code",
      "execution_count": 204,
      "metadata": {
        "id": "ivUiXl3zTVhl"
      },
      "outputs": [],
      "source": [
        "from sklearn.preprocessing import MinMaxScaler\n",
        "scaler = MinMaxScaler()\n",
        "np_stats = scaler.fit_transform(np_stats)"
      ]
    },
    {
      "cell_type": "code",
      "execution_count": 205,
      "metadata": {
        "id": "R2CCHbTvB9lr"
      },
      "outputs": [],
      "source": [
        "np_stats = tf.constant(np_stats)\n",
        "np_img = tf.constant(np_img)"
      ]
    },
    {
      "cell_type": "code",
      "execution_count": 206,
      "metadata": {},
      "outputs": [
        {
          "data": {
            "text/plain": [
              "(TensorShape([11, 11]), TensorShape([11, 240, 320, 3]))"
            ]
          },
          "execution_count": 206,
          "metadata": {},
          "output_type": "execute_result"
        }
      ],
      "source": [
        "np_stats.shape, np_img.shape"
      ]
    },
    {
      "cell_type": "code",
      "execution_count": 207,
      "metadata": {
        "id": "DwSiRzCeCXUb"
      },
      "outputs": [],
      "source": [
        "np_stats = tf.expand_dims(np_stats, 0)\n",
        "np_img = tf.expand_dims(np_img, 0)"
      ]
    },
    {
      "cell_type": "code",
      "execution_count": 208,
      "metadata": {
        "colab": {
          "base_uri": "https://localhost:8080/"
        },
        "id": "1yfTseU7Y6G3",
        "outputId": "8abc7fe0-3178-44d5-a2be-b2454f434b27"
      },
      "outputs": [
        {
          "data": {
            "text/plain": [
              "(TensorShape([1, 11, 11]), TensorShape([1, 11, 240, 320, 3]))"
            ]
          },
          "execution_count": 208,
          "metadata": {},
          "output_type": "execute_result"
        }
      ],
      "source": [
        "np_stats.shape, np_img.shape"
      ]
    },
    {
      "attachments": {},
      "cell_type": "markdown",
      "metadata": {},
      "source": [
        "# MAKES PREDICTIONS AND COMPARE THEM"
      ]
    },
    {
      "cell_type": "code",
      "execution_count": 210,
      "metadata": {
        "colab": {
          "base_uri": "https://localhost:8080/"
        },
        "id": "epkcxfXYQi_M",
        "outputId": "3f4267cb-30ff-4793-a452-bb968d2574ad"
      },
      "outputs": [
        {
          "name": "stdout",
          "output_type": "stream",
          "text": [
            "1/1 [==============================] - 5s 5s/step\n"
          ]
        },
        {
          "data": {
            "text/plain": [
              "[array([[26.49286 ],\n",
              "        [23.128542],\n",
              "        [31.13504 ],\n",
              "        [34.516758],\n",
              "        [51.601246],\n",
              "        [35.073223],\n",
              "        [35.19347 ],\n",
              "        [48.495316],\n",
              "        [35.02031 ],\n",
              "        [36.480705],\n",
              "        [42.00406 ]], dtype=float32)]"
            ]
          },
          "execution_count": 210,
          "metadata": {},
          "output_type": "execute_result"
        }
      ],
      "source": [
        "preds = []\n",
        "for i in range(len(np_img)):\n",
        "  preds.append(model.predict((np_img[i],np_stats[i])))\n",
        "\n",
        "preds"
      ]
    },
    {
      "cell_type": "code",
      "execution_count": 211,
      "metadata": {
        "id": "8QZ0DjK5UoJh"
      },
      "outputs": [],
      "source": [
        "my_Music['Preds'] = ''"
      ]
    },
    {
      "cell_type": "code",
      "execution_count": 212,
      "metadata": {
        "id": "EypKH3MgFUm1"
      },
      "outputs": [],
      "source": [
        "preds_df = my_Music.iloc[:11,]"
      ]
    },
    {
      "cell_type": "code",
      "execution_count": 213,
      "metadata": {
        "id": "gRIqKh2aU8WO"
      },
      "outputs": [],
      "source": [
        "list_preds = []\n",
        "for i in preds:\n",
        "  for j in i:\n",
        "    for k in j:\n",
        "      list_preds.append(k)"
      ]
    },
    {
      "cell_type": "code",
      "execution_count": 215,
      "metadata": {
        "colab": {
          "base_uri": "https://localhost:8080/"
        },
        "id": "l45c6GdIU2L8",
        "outputId": "7a3f245b-bdde-4815-df19-d71abfb3a5cf"
      },
      "outputs": [
        {
          "name": "stderr",
          "output_type": "stream",
          "text": [
            "/var/folders/kq/fhf47yp54w1byy_p5j5n4c340000gn/T/ipykernel_2414/4241955109.py:1: SettingWithCopyWarning: \n",
            "A value is trying to be set on a copy of a slice from a DataFrame.\n",
            "Try using .loc[row_indexer,col_indexer] = value instead\n",
            "\n",
            "See the caveats in the documentation: https://pandas.pydata.org/pandas-docs/stable/user_guide/indexing.html#returning-a-view-versus-a-copy\n",
            "  preds_df['Preds'] = list_preds\n"
          ]
        }
      ],
      "source": [
        "preds_df['Preds'] = list_preds"
      ]
    },
    {
      "cell_type": "code",
      "execution_count": 216,
      "metadata": {
        "colab": {
          "base_uri": "https://localhost:8080/"
        },
        "id": "qI379NS8VeN5",
        "outputId": "dd2b93c5-713c-4b1c-dbdd-d7e05e38a977"
      },
      "outputs": [
        {
          "name": "stderr",
          "output_type": "stream",
          "text": [
            "/var/folders/kq/fhf47yp54w1byy_p5j5n4c340000gn/T/ipykernel_2414/3535314390.py:1: SettingWithCopyWarning: \n",
            "A value is trying to be set on a copy of a slice from a DataFrame.\n",
            "Try using .loc[row_indexer,col_indexer] = value instead\n",
            "\n",
            "See the caveats in the documentation: https://pandas.pydata.org/pandas-docs/stable/user_guide/indexing.html#returning-a-view-versus-a-copy\n",
            "  preds_df['Preds_diff'] = abs(preds_df['Preds'] - preds_df['Track_Popularity'])\n"
          ]
        }
      ],
      "source": [
        "preds_df['Preds_diff'] = abs(preds_df['Preds'] - preds_df['Track_Popularity'])"
      ]
    },
    {
      "cell_type": "code",
      "execution_count": 217,
      "metadata": {
        "colab": {
          "base_uri": "https://localhost:8080/",
          "height": 580
        },
        "id": "BH3ksQ3VVrOx",
        "outputId": "a2bff7a9-67ca-4c08-f760-ca206ed8750a"
      },
      "outputs": [
        {
          "data": {
            "text/html": [
              "<div>\n",
              "<style scoped>\n",
              "    .dataframe tbody tr th:only-of-type {\n",
              "        vertical-align: middle;\n",
              "    }\n",
              "\n",
              "    .dataframe tbody tr th {\n",
              "        vertical-align: top;\n",
              "    }\n",
              "\n",
              "    .dataframe thead th {\n",
              "        text-align: right;\n",
              "    }\n",
              "</style>\n",
              "<table border=\"1\" class=\"dataframe\">\n",
              "  <thead>\n",
              "    <tr style=\"text-align: right;\">\n",
              "      <th></th>\n",
              "      <th>Track_ID</th>\n",
              "      <th>Track_Title</th>\n",
              "      <th>Track_Artist</th>\n",
              "      <th>Track_Popularity</th>\n",
              "      <th>Track_URL</th>\n",
              "      <th>Preds</th>\n",
              "      <th>Preds_diff</th>\n",
              "    </tr>\n",
              "  </thead>\n",
              "  <tbody>\n",
              "    <tr>\n",
              "      <th>2</th>\n",
              "      <td>69FKjWduD5QS7Au7LV51y4</td>\n",
              "      <td>Island (Nôze Swimming Circles Remix) [feat. Caro]</td>\n",
              "      <td>Padberg</td>\n",
              "      <td>12</td>\n",
              "      <td>https://p.scdn.co/mp3-preview/eeee7fa521bfdb81...</td>\n",
              "      <td>26.492861</td>\n",
              "      <td>14.492861</td>\n",
              "    </tr>\n",
              "    <tr>\n",
              "      <th>3</th>\n",
              "      <td>1dWxSS2a93X4XVfs1mSYkB</td>\n",
              "      <td>Bluebird</td>\n",
              "      <td>Alexis Ffrench</td>\n",
              "      <td>61</td>\n",
              "      <td>https://p.scdn.co/mp3-preview/5685b0b13663f0d6...</td>\n",
              "      <td>23.128542</td>\n",
              "      <td>37.871458</td>\n",
              "    </tr>\n",
              "    <tr>\n",
              "      <th>5</th>\n",
              "      <td>1mPqkPH49x4jSGa4pIvqvr</td>\n",
              "      <td>Turning Blind</td>\n",
              "      <td>Bondi</td>\n",
              "      <td>33</td>\n",
              "      <td>https://p.scdn.co/mp3-preview/b0ad49b0b393a857...</td>\n",
              "      <td>31.135040</td>\n",
              "      <td>1.864960</td>\n",
              "    </tr>\n",
              "    <tr>\n",
              "      <th>6</th>\n",
              "      <td>7iUQROXqrJGdnzGsmDJy0A</td>\n",
              "      <td>Without</td>\n",
              "      <td>MAZ'N</td>\n",
              "      <td>42</td>\n",
              "      <td>https://p.scdn.co/mp3-preview/9541411047da08ca...</td>\n",
              "      <td>34.516758</td>\n",
              "      <td>7.483242</td>\n",
              "    </tr>\n",
              "    <tr>\n",
              "      <th>8</th>\n",
              "      <td>5IgjP7X4th6nMNDh4akUHb</td>\n",
              "      <td>Under The Influence</td>\n",
              "      <td>Chris Brown</td>\n",
              "      <td>94</td>\n",
              "      <td>https://p.scdn.co/mp3-preview/119b5ce31d6768a9...</td>\n",
              "      <td>51.601246</td>\n",
              "      <td>42.398754</td>\n",
              "    </tr>\n",
              "    <tr>\n",
              "      <th>9</th>\n",
              "      <td>4iAADGCKIR9GkLGvAHfZUS</td>\n",
              "      <td>Beat Goes On (Rhythm to the Brain)</td>\n",
              "      <td>Campbell</td>\n",
              "      <td>72</td>\n",
              "      <td>https://p.scdn.co/mp3-preview/c21ae243033a42d6...</td>\n",
              "      <td>35.073223</td>\n",
              "      <td>36.926777</td>\n",
              "    </tr>\n",
              "    <tr>\n",
              "      <th>10</th>\n",
              "      <td>6xGruZOHLs39ZbVccQTuPZ</td>\n",
              "      <td>Glimpse of Us</td>\n",
              "      <td>Joji</td>\n",
              "      <td>89</td>\n",
              "      <td>https://p.scdn.co/mp3-preview/ff2dbd24fd1b0a75...</td>\n",
              "      <td>35.193470</td>\n",
              "      <td>53.806530</td>\n",
              "    </tr>\n",
              "    <tr>\n",
              "      <th>14</th>\n",
              "      <td>00qcCTakk6Q9LVR7ZL1Hle</td>\n",
              "      <td>Poudre de love</td>\n",
              "      <td>LUSKA</td>\n",
              "      <td>2</td>\n",
              "      <td>https://p.scdn.co/mp3-preview/d3ebfe4ed4998fbf...</td>\n",
              "      <td>48.495316</td>\n",
              "      <td>46.495316</td>\n",
              "    </tr>\n",
              "    <tr>\n",
              "      <th>16</th>\n",
              "      <td>3RNyGLgSvmVRZ7xKUp8Wgd</td>\n",
              "      <td>In the Summertime</td>\n",
              "      <td>Mungo Jerry</td>\n",
              "      <td>69</td>\n",
              "      <td>https://p.scdn.co/mp3-preview/ea8e401415e42fbb...</td>\n",
              "      <td>35.020309</td>\n",
              "      <td>33.979691</td>\n",
              "    </tr>\n",
              "    <tr>\n",
              "      <th>17</th>\n",
              "      <td>5kWK7atS38wbMeNlytoqA4</td>\n",
              "      <td>Galop infernal</td>\n",
              "      <td>Jacques Offenbach</td>\n",
              "      <td>38</td>\n",
              "      <td>https://p.scdn.co/mp3-preview/dbb097dd9d14c5da...</td>\n",
              "      <td>36.480705</td>\n",
              "      <td>1.519295</td>\n",
              "    </tr>\n",
              "    <tr>\n",
              "      <th>19</th>\n",
              "      <td>01hyJrAHoH26GHSWzKLeXB</td>\n",
              "      <td>Ry</td>\n",
              "      <td>Christian Löffler</td>\n",
              "      <td>36</td>\n",
              "      <td>https://p.scdn.co/mp3-preview/d34ba4c5df432fda...</td>\n",
              "      <td>42.004059</td>\n",
              "      <td>6.004059</td>\n",
              "    </tr>\n",
              "  </tbody>\n",
              "</table>\n",
              "</div>"
            ],
            "text/plain": [
              "                  Track_ID                                        Track_Title  \\\n",
              "2   69FKjWduD5QS7Au7LV51y4  Island (Nôze Swimming Circles Remix) [feat. Caro]   \n",
              "3   1dWxSS2a93X4XVfs1mSYkB                                           Bluebird   \n",
              "5   1mPqkPH49x4jSGa4pIvqvr                                      Turning Blind   \n",
              "6   7iUQROXqrJGdnzGsmDJy0A                                            Without   \n",
              "8   5IgjP7X4th6nMNDh4akUHb                                Under The Influence   \n",
              "9   4iAADGCKIR9GkLGvAHfZUS                 Beat Goes On (Rhythm to the Brain)   \n",
              "10  6xGruZOHLs39ZbVccQTuPZ                                      Glimpse of Us   \n",
              "14  00qcCTakk6Q9LVR7ZL1Hle                                     Poudre de love   \n",
              "16  3RNyGLgSvmVRZ7xKUp8Wgd                                  In the Summertime   \n",
              "17  5kWK7atS38wbMeNlytoqA4                                     Galop infernal   \n",
              "19  01hyJrAHoH26GHSWzKLeXB                                                 Ry   \n",
              "\n",
              "         Track_Artist  Track_Popularity  \\\n",
              "2             Padberg                12   \n",
              "3      Alexis Ffrench                61   \n",
              "5               Bondi                33   \n",
              "6               MAZ'N                42   \n",
              "8         Chris Brown                94   \n",
              "9            Campbell                72   \n",
              "10               Joji                89   \n",
              "14              LUSKA                 2   \n",
              "16        Mungo Jerry                69   \n",
              "17  Jacques Offenbach                38   \n",
              "19  Christian Löffler                36   \n",
              "\n",
              "                                            Track_URL      Preds  Preds_diff  \n",
              "2   https://p.scdn.co/mp3-preview/eeee7fa521bfdb81...  26.492861   14.492861  \n",
              "3   https://p.scdn.co/mp3-preview/5685b0b13663f0d6...  23.128542   37.871458  \n",
              "5   https://p.scdn.co/mp3-preview/b0ad49b0b393a857...  31.135040    1.864960  \n",
              "6   https://p.scdn.co/mp3-preview/9541411047da08ca...  34.516758    7.483242  \n",
              "8   https://p.scdn.co/mp3-preview/119b5ce31d6768a9...  51.601246   42.398754  \n",
              "9   https://p.scdn.co/mp3-preview/c21ae243033a42d6...  35.073223   36.926777  \n",
              "10  https://p.scdn.co/mp3-preview/ff2dbd24fd1b0a75...  35.193470   53.806530  \n",
              "14  https://p.scdn.co/mp3-preview/d3ebfe4ed4998fbf...  48.495316   46.495316  \n",
              "16  https://p.scdn.co/mp3-preview/ea8e401415e42fbb...  35.020309   33.979691  \n",
              "17  https://p.scdn.co/mp3-preview/dbb097dd9d14c5da...  36.480705    1.519295  \n",
              "19  https://p.scdn.co/mp3-preview/d34ba4c5df432fda...  42.004059    6.004059  "
            ]
          },
          "execution_count": 217,
          "metadata": {},
          "output_type": "execute_result"
        }
      ],
      "source": [
        "preds_df"
      ]
    }
  ],
  "metadata": {
    "colab": {
      "provenance": []
    },
    "kernelspec": {
      "display_name": "base",
      "language": "python",
      "name": "python3"
    },
    "language_info": {
      "codemirror_mode": {
        "name": "ipython",
        "version": 3
      },
      "file_extension": ".py",
      "mimetype": "text/x-python",
      "name": "python",
      "nbconvert_exporter": "python",
      "pygments_lexer": "ipython3",
      "version": "3.9.15"
    },
    "vscode": {
      "interpreter": {
        "hash": "472f3460692ba2c0861145e5e150d03c8a5c0e40e057944a047c431b9050b93d"
      }
    }
  },
  "nbformat": 4,
  "nbformat_minor": 0
}
