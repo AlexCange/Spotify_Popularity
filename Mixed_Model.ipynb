{
  "nbformat": 4,
  "nbformat_minor": 0,
  "metadata": {
    "colab": {
      "provenance": []
    },
    "kernelspec": {
      "name": "python3",
      "display_name": "Python 3"
    },
    "language_info": {
      "name": "python"
    },
    "gpuClass": "standard"
  },
  "cells": [
    {
      "cell_type": "code",
      "execution_count": 1,
      "metadata": {
        "id": "JW_0UGMo6uMv"
      },
      "outputs": [],
      "source": [
        "import pandas as pd\n",
        "import numpy as np\n",
        "import os\n",
        "from PIL import Image\n",
        "import tensorflow as tf\n",
        "import tensorflow_datasets as tfds\n",
        "from tensorflow.keras.preprocessing.image import img_to_array\n",
        "import cv2"
      ]
    },
    {
      "cell_type": "code",
      "source": [
        "import dataclasses\n",
        "import zipfile as zf\n",
        "\n",
        "dataset = !wget https://storage.googleapis.com/new_music_bucket/spectrograms.zip\n",
        "\n",
        "dataset = zf.ZipFile(f'spectrograms.zip', 'r')\n",
        "dataset.extractall()\n",
        "dataset.close()"
      ],
      "metadata": {
        "id": "QvXi2FGLEgh4"
      },
      "execution_count": 3,
      "outputs": []
    },
    {
      "cell_type": "code",
      "source": [
        "url = \"https://drive.google.com/file/d/1HxubcoB0vIZ-ldFIBn87ll5H34WJ4xhc/view?usp=share_link\"\n",
        "path = \"https://drive.google.com/uc?export=download&id=\"+url.split(\"/\")[-2]\n",
        "merged_df = pd.read_csv(path)"
      ],
      "metadata": {
        "id": "hM02DiKX7szs"
      },
      "execution_count": 4,
      "outputs": []
    },
    {
      "cell_type": "code",
      "source": [
        "merged_df.drop(['Path', 'Danceability', 'Energy', 'Key',\n",
        "       'Loudness', 'Mode', 'Speechiness', 'Acoutsicness', 'Instrumentalness',\n",
        "       'Liveness', 'Valence', 'Tempo'], inplace=True, axis=1)"
      ],
      "metadata": {
        "id": "asZmZ4VP8UnB"
      },
      "execution_count": 9,
      "outputs": []
    },
    {
      "cell_type": "code",
      "source": [
        "shuffled_df = merged_df.sample(frac=1)\n",
        "train_df, val_df, test_df = shuffled_df[:7000], shuffled_df[7000:8550], shuffled_df[8550:]"
      ],
      "metadata": {
        "id": "hdulBNT48VRK"
      },
      "execution_count": 10,
      "outputs": []
    },
    {
      "cell_type": "code",
      "source": [
        "def get_X_y(df):\n",
        "\n",
        "  X_pic, X_stats = [], []\n",
        "  y = []\n",
        "\n",
        "  for name in df['NPZ_Path']:\n",
        "    loaded_npz = np.load(name, allow_pickle=True)\n",
        "\n",
        "    pic = loaded_npz['pic']\n",
        "    X_pic.append(pic)\n",
        "\n",
        "    stats = loaded_npz['stats']\n",
        "    X_stats.append(stats)\n",
        "    \n",
        "    \n",
        "    y.append(loaded_npz['track_popularity'])\n",
        "\n",
        "  X_pic, X_stats = np.array(X_pic), np.array(X_stats)\n",
        "  y = np.array(y)\n",
        "\n",
        "  return (X_pic, X_stats), y\n",
        "\n"
      ],
      "metadata": {
        "id": "NDVx7SkY8XNq"
      },
      "execution_count": 11,
      "outputs": []
    },
    {
      "cell_type": "code",
      "source": [
        "# Get the training data\n",
        "(X_train_pic, X_train_stats), y_train = get_X_y(train_df)"
      ],
      "metadata": {
        "id": "3mEtYIwvrF1p"
      },
      "execution_count": 12,
      "outputs": []
    },
    {
      "cell_type": "code",
      "source": [
        "X_train_pic.shape"
      ],
      "metadata": {
        "colab": {
          "base_uri": "https://localhost:8080/"
        },
        "id": "-eaLk0UkqJeA",
        "outputId": "265b34d0-8d1f-40e7-8ca3-0e53dcae0762"
      },
      "execution_count": 15,
      "outputs": [
        {
          "output_type": "execute_result",
          "data": {
            "text/plain": [
              "(7000, 240, 320, 3)"
            ]
          },
          "metadata": {},
          "execution_count": 15
        }
      ]
    },
    {
      "cell_type": "code",
      "source": [
        "# Get the validation data\n",
        "\n",
        "(X_val_pic, X_val_stats), y_val = get_X_y(val_df)\n",
        "\n",
        "(X_val_pic.shape, X_val_stats.shape), y_val.shape"
      ],
      "metadata": {
        "id": "YqaJw8-58b5J",
        "colab": {
          "base_uri": "https://localhost:8080/"
        },
        "outputId": "5e1d33d5-bc18-4c71-b843-07c0756f4404"
      },
      "execution_count": 16,
      "outputs": [
        {
          "output_type": "execute_result",
          "data": {
            "text/plain": [
              "(((1550, 240, 320, 3), (1550, 11)), (1550,))"
            ]
          },
          "metadata": {},
          "execution_count": 16
        }
      ]
    },
    {
      "cell_type": "code",
      "source": [
        "# %% Get the test data\n",
        "(X_test_pic, X_test_stats), y_test = get_X_y(test_df)\n",
        "\n",
        "(X_test_pic.shape, X_test_stats.shape), y_test.shape"
      ],
      "metadata": {
        "id": "mjUeD6f58hDf",
        "colab": {
          "base_uri": "https://localhost:8080/"
        },
        "outputId": "bc635823-e9c9-419c-fec6-af1ca14a407e"
      },
      "execution_count": 17,
      "outputs": [
        {
          "output_type": "execute_result",
          "data": {
            "text/plain": [
              "(((1605, 240, 320, 3), (1605, 11)), (1605,))"
            ]
          },
          "metadata": {},
          "execution_count": 17
        }
      ]
    },
    {
      "cell_type": "code",
      "source": [
        "from sklearn.preprocessing import MinMaxScaler\n",
        "scaler = MinMaxScaler()\n",
        "X_train_stats_scaled = scaler.fit_transform(X_train_stats)\n",
        "X_test_stats_scaled = scaler.fit_transform(X_test_stats)\n",
        "X_val_stats_scaled = scaler.fit_transform(X_val_stats)"
      ],
      "metadata": {
        "id": "ugr--7gshRNS"
      },
      "execution_count": 18,
      "outputs": []
    },
    {
      "cell_type": "code",
      "source": [
        "# Define the Model\n",
        "\n",
        "from tensorflow.keras import layers\n",
        "from tensorflow.keras.models import Model\n",
        "from tensorflow.keras.applications import MobileNetV2\n",
        "from tensorflow.keras.applications.mobilenet_v2 import preprocess_input\n",
        "\n",
        "# Define the Picture (CNN) Stream\n",
        "\n",
        "input_pic = layers.Input(shape=(240, 320, 3))\n",
        "\n",
        "x         = MobileNetV2(input_shape=((240, 320, 3)), include_top=False)(input_pic)\n",
        "x         = layers.Conv2D(128, (3, 3), activation='relu', padding='same', input_shape=(240, 320, 3))(x)\n",
        "x         = layers.Conv2D(64, (3, 3), activation='relu', padding='same', input_shape=(240, 320, 3))(x)\n",
        "x         = layers.GlobalAveragePooling2D()(x)\n",
        "x         = layers.Dense(10, activation = 'sigmoid')(x)\n",
        "x         = layers.Dense(10, activation = 'sigmoid')(x)\n",
        "x         = Model(inputs=input_pic, outputs=x)\n",
        "\n",
        "# Define the Stats (Feed-Forward) Stream\n",
        "\n",
        "input_stats = layers.Input(shape=(11,))\n",
        "y = layers.Dense(64, kernel_regularizer='L1L2')(input_stats)\n",
        "y = layers.Flatten()(y) \n",
        "y = layers.Dense(32, activation=\"relu\", kernel_regularizer='L1L2')(y)\n",
        "y = layers.Dense(10, activation=\"relu\")(y)\n",
        "y = Model(inputs=input_stats, outputs=y)\n",
        "\n",
        "\n",
        "# Concatenate the two streams together\n",
        "combined = layers.concatenate([x.output, y.output])\n",
        "\n",
        "# Define joined Feed-Forward Layer\n",
        "z = layers.Dense(4, activation=\"relu\")(combined)\n",
        "\n",
        "# Define output node of 1 linear neuron (regression task)\n",
        "z = layers.Dense(1, activation=\"linear\")(z)\n",
        "\n",
        "\n",
        "# Define the final model\n",
        "model = Model(inputs=[x.input, y.input], outputs=z)"
      ],
      "metadata": {
        "id": "vz5buAYD8jZL",
        "colab": {
          "base_uri": "https://localhost:8080/"
        },
        "outputId": "009bca74-120e-4294-caf1-de1411beed7a"
      },
      "execution_count": null,
      "outputs": [
        {
          "output_type": "stream",
          "name": "stderr",
          "text": [
            "WARNING:tensorflow:`input_shape` is undefined or non-square, or `rows` is not in [96, 128, 160, 192, 224]. Weights for input shape (224, 224) will be loaded as the default.\n"
          ]
        }
      ]
    },
    {
      "cell_type": "code",
      "source": [
        "from tensorflow.keras.optimizers import Adam\n",
        "\n",
        "optimizer = Adam(learning_rate=0.01)\n",
        "\n",
        "model.compile(loss='mse', optimizer=optimizer, metrics=['mean_absolute_error'])"
      ],
      "metadata": {
        "id": "GKRfw3DG8olD"
      },
      "execution_count": null,
      "outputs": []
    },
    {
      "cell_type": "code",
      "source": [
        "evaluation_list = []"
      ],
      "metadata": {
        "id": "kDPel6RZr8UR"
      },
      "execution_count": null,
      "outputs": []
    },
    {
      "cell_type": "code",
      "source": [
        "from tensorflow.keras.callbacks import ModelCheckpoint\n",
        "\n",
        "cp = ModelCheckpoint('model/', save_best_only=True)\n",
        "\n",
        "model.fit(x=[X_train_pic, X_train_stats_scaled], y=y_train, validation_data=([X_val_pic, X_val_stats_scaled], y_val), epochs=5, callbacks=[cp])"
      ],
      "metadata": {
        "id": "OBmdWn918tiP",
        "colab": {
          "base_uri": "https://localhost:8080/"
        },
        "outputId": "6b7fcfe8-8002-49f2-db23-b04971655fbc"
      },
      "execution_count": null,
      "outputs": [
        {
          "output_type": "stream",
          "name": "stdout",
          "text": [
            "Epoch 1/5\n",
            "219/219 [==============================] - ETA: 0s - loss: 367.6600 - mean_absolute_error: 15.0624"
          ]
        },
        {
          "output_type": "stream",
          "name": "stderr",
          "text": [
            "WARNING:absl:Found untraced functions such as _jit_compiled_convolution_op, _jit_compiled_convolution_op, _jit_compiled_convolution_op, _jit_compiled_convolution_op, _jit_compiled_convolution_op while saving (showing 5 of 54). These functions will not be directly callable after loading.\n"
          ]
        },
        {
          "output_type": "stream",
          "name": "stdout",
          "text": [
            "\b\b\b\b\b\b\b\b\b\b\b\b\b\b\b\b\b\b\b\b\b\b\b\b\b\b\b\b\b\b\b\b\b\b\b\b\b\b\b\b\b\b\b\b\b\b\b\b\b\b\b\b\b\b\b\b\b\b\b\b\b\b\b\b\b\b\b\b\b\b\b\b\b\b\b\b\b\b\b\b\b\b\b\b\b\b\b\b\b\b\b\b\b\b\b\b\b\b\r219/219 [==============================] - 97s 416ms/step - loss: 367.6600 - mean_absolute_error: 15.0624 - val_loss: 263.8546 - val_mean_absolute_error: 13.1106\n",
            "Epoch 2/5\n",
            "219/219 [==============================] - 69s 313ms/step - loss: 274.1906 - mean_absolute_error: 13.3791 - val_loss: 272.8595 - val_mean_absolute_error: 13.3010\n",
            "Epoch 3/5\n",
            "219/219 [==============================] - 68s 310ms/step - loss: 275.6396 - mean_absolute_error: 13.3981 - val_loss: 269.1078 - val_mean_absolute_error: 13.2146\n",
            "Epoch 4/5\n",
            "219/219 [==============================] - 68s 312ms/step - loss: 277.0294 - mean_absolute_error: 13.4615 - val_loss: 323.7280 - val_mean_absolute_error: 14.4115\n",
            "Epoch 5/5\n",
            "219/219 [==============================] - 71s 324ms/step - loss: 272.5837 - mean_absolute_error: 13.3314 - val_loss: 278.4042 - val_mean_absolute_error: 13.4032\n"
          ]
        },
        {
          "output_type": "execute_result",
          "data": {
            "text/plain": [
              "<keras.callbacks.History at 0x7feec09e0610>"
            ]
          },
          "metadata": {},
          "execution_count": 21
        }
      ]
    },
    {
      "cell_type": "code",
      "source": [
        "evaluation_list.append(model.evaluate((X_test_pic, X_test_stats_scaled), y_test))"
      ],
      "metadata": {
        "colab": {
          "base_uri": "https://localhost:8080/"
        },
        "id": "XayoSGzFpQen",
        "outputId": "0c7b0c0b-aa83-4bde-caed-1a51cb33a7de"
      },
      "execution_count": null,
      "outputs": [
        {
          "output_type": "stream",
          "name": "stdout",
          "text": [
            "51/51 [==============================] - 3s 61ms/step - loss: 267.3476 - mean_absolute_error: 13.2207\n"
          ]
        }
      ]
    },
    {
      "cell_type": "code",
      "source": [
        "evaluation_list"
      ],
      "metadata": {
        "colab": {
          "base_uri": "https://localhost:8080/"
        },
        "id": "bzy2jpeCW170",
        "outputId": "06d99824-ede7-4d3c-fb6a-c695d46f21bc"
      },
      "execution_count": null,
      "outputs": [
        {
          "output_type": "execute_result",
          "data": {
            "text/plain": [
              "[[267.32672119140625, 13.234389305114746],\n",
              " [267.3475646972656, 13.220735549926758]]"
            ]
          },
          "metadata": {},
          "execution_count": 23
        }
      ]
    }
  ]
}